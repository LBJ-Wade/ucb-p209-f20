{
 "cells": [
  {
   "cell_type": "code",
   "execution_count": null,
   "metadata": {},
   "outputs": [],
   "source": [
    "import numpy as np\n",
    "import matplotlib.pyplot as plt\n",
    "%matplotlib inline"
   ]
  },
  {
   "cell_type": "markdown",
   "metadata": {},
   "source": [
    "### Diffraction by a cylinder in scalar theory ###\n",
    "\n",
    "There are very few situations where the diffraction calculation can\n",
    "be done \"properly\", and they all involve high degrees of symmetry.\n",
    "One situation where the answer can be obtained exactly within the\n",
    "scalar theory of diffraction (so still not the full vector calculation) is\n",
    "a plane electromagentic wave, of angular frequency $\\omega$, being\n",
    "diffracted by an infinite cylinder of radius $a$ centered along the\n",
    "$z$-axis.  The problem obviously suggests cylindrical coordinates.\n",
    "If we measure the polar angle, $\\theta$, from the direction of propagation\n",
    "of the incident wave then we need to solve\n",
    "$$\n",
    "  {1\\over r}{\\partial\\over\\partial r}\n",
    "  \\left(r{\\partial\\psi\\over\\partial r}\\right) +\n",
    "  {1\\over r^2}{\\partial^2\\psi\\over\\partial\\theta^2} + k^2\\psi = 0\n",
    "$$\n",
    "subject to\n",
    "$$\n",
    "  \\left. \\psi\\right|_{r=a} + \\psi_0 e^{-ika\\cos\\theta} = 0\n",
    "  \\quad , \\quad\n",
    "  \\lim_{r\\to\\infty}\\sqrt{r}\\left({\\partial\\psi\\over\\partial r}+ik\\psi\\right)=0\n",
    "$$\n",
    "where $k=\\omega/c$ and the second condition is the \"radiation condition\".\n",
    "Applying separation of variables in cylindrical coordinates we find solutions\n",
    "periodc in $\\theta$ with radial dependence given by Hankel functions.  The\n",
    "problem is even in $\\theta$ so only $\\cos n\\theta$ survive and the radiation\n",
    "condition requires only $H^{(2)}(kr)$ survives.  So\n",
    "$$\n",
    "  \\psi = \\sum_{n=0}^\\infty A_n H_n^{(2)}(kr)\\cos n\\theta\n",
    "$$\n",
    "To solve for the $A_n$ we use the boundary condition at $r=a$ and the\n",
    "Rayleigh expansion\n",
    "$$\n",
    "  e^{-ika\\cos\\theta} = J_0(ka)+2\\sum_{n=1}^\\infty (-i)^n J_n(ka)\\cos n\\theta\n",
    "$$\n",
    "so that\n",
    "$$\n",
    "  A_0H_0^{(2)}(ka) = -\\psi_0J_0(ka) \\quad , \\quad\n",
    "  A_nH_n^{(2)}(ka) = -2\\psi_0(-i)^nJ_n(ka)\n",
    "$$\n",
    "After a little bit of algebra the solution ultimately becomes\n",
    "$$\n",
    "  \\psi = -\\psi_0\\left[{J_0(ka)\\over H_0^{(2)}(ka)}H_0^{(2)}(kr) +\n",
    "         2 \\sum_{n=1}^\\infty (-i)^n{J_n(ka)\\over H_n^{(2)}(ka)}\n",
    "         H_n^{(2)}(kr)\\cos n\\theta \\right]\n",
    "$$\n",
    "which is relatively unilluminating but if you plot it you do see quite\n",
    "a number of the expected \"diffraction like\" behaviors."
   ]
  },
  {
   "cell_type": "code",
   "execution_count": null,
   "metadata": {},
   "outputs": [],
   "source": [
    "# Let's use the SciPy routines for the special functions\n",
    "# we will need (these are just thin wrappers around the\n",
    "# Amos routines: http://netlib.org/amos/).\n",
    "from scipy.special import hankel2 as H2\n",
    "from scipy.special import jv      as Jn"
   ]
  },
  {
   "cell_type": "code",
   "execution_count": null,
   "metadata": {},
   "outputs": [],
   "source": [
    "# We set up a regular Cartesian grid.\n",
    "xv,yv = np.linspace(-5,5,200),np.linspace(-5,5,200)\n",
    "XX,YY = np.meshgrid(xv,yv,indexing='ij')\n",
    "RR    = np.sqrt(XX**2 + YY**2)\n",
    "theta = np.arctan2(YY,XX)\n",
    "#\n",
    "# and the radius of the cylinder (a) and\n",
    "# wavevector (k)\n",
    "#\n",
    "kk    = 5.0\n",
    "aa    = 1.0"
   ]
  },
  {
   "cell_type": "code",
   "execution_count": null,
   "metadata": {},
   "outputs": [],
   "source": [
    "# Just store some of the functions making up the coefficients.\n",
    "Nmax = 5\n",
    "cc   = np.zeros(Nmax,dtype='complex') # Coefficients in expansion.\n",
    "eye  = np.complex(0,1)\n",
    "#\n",
    "for n in range(Nmax):\n",
    "    onetwo = 1 if n==0 else 2\n",
    "    cc[n]  = Jn(n,kk*aa)/H2(n,kk*aa) * onetwo * (-eye)**n"
   ]
  },
  {
   "cell_type": "code",
   "execution_count": null,
   "metadata": {},
   "outputs": [],
   "source": [
    "# Now compute Psi(r,theta)\n",
    "psi = np.zeros_like(RR,dtype='complex')\n",
    "for n in range(Nmax):\n",
    "    psi += cc[n] * H2(n,kk*RR) * np.cos(n*theta)\n",
    "# and interior to the circle, set psi=0.\n",
    "psi[RR<aa] = np.complex(0)"
   ]
  },
  {
   "cell_type": "code",
   "execution_count": null,
   "metadata": {},
   "outputs": [],
   "source": [
    "fig,ax = plt.subplots(1,1,figsize=(8,8))\n",
    "#\n",
    "ax.imshow(np.arcsinh(np.abs(psi)).T,origin='lower',extent=[xv[0],xv[-1],yv[0],yv[-1]])\n",
    "# Plot the cylinder as a dashed line.\n",
    "tt = np.linspace(0,2*np.pi,100,endpoint=True)\n",
    "ax.plot(aa*np.cos(tt),aa*np.sin(tt),'k--')"
   ]
  },
  {
   "cell_type": "code",
   "execution_count": null,
   "metadata": {},
   "outputs": [],
   "source": []
  }
 ],
 "metadata": {
  "kernelspec": {
   "display_name": "Python 3",
   "language": "python",
   "name": "python3"
  },
  "language_info": {
   "codemirror_mode": {
    "name": "ipython",
    "version": 3
   },
   "file_extension": ".py",
   "mimetype": "text/x-python",
   "name": "python",
   "nbconvert_exporter": "python",
   "pygments_lexer": "ipython3",
   "version": "3.8.6"
  }
 },
 "nbformat": 4,
 "nbformat_minor": 4
}
