{
 "cells": [
  {
   "cell_type": "code",
   "execution_count": null,
   "metadata": {},
   "outputs": [],
   "source": [
    "import numpy as np\n",
    "import matplotlib.pyplot as plt\n",
    "%matplotlib inline"
   ]
  },
  {
   "cell_type": "markdown",
   "metadata": {},
   "source": [
    "## A multigrid code ##\n",
    "\n",
    "A simple code \"example\" of the multigrid relaxation method.\n",
    "Solves $d^2\\Phi/dx^2 = 0$ with $\\Phi(0)=1$ and $\\Phi(1)=0$.\n",
    "The goal is to be clear, rather than efficient."
   ]
  },
  {
   "cell_type": "code",
   "execution_count": null,
   "metadata": {},
   "outputs": [],
   "source": [
    "# We discretize Phi\"=0 on a regular, 1D grid [0,N] as\n",
    "#       -Phi_{i-1}+2Phi_{i}-Phi_{i+1}=0\n",
    "# where I have multiplied through by h^2 to eliminate the grid\n",
    "# spacing (trivial since the rhs=0).\n",
    "#\n",
    "# At each step we solve the problem using the damped/weighted\n",
    "# Jacobi/simultaneous displacement method:\n",
    "#   Phi*_j = (1/2)[ Phi_{j-1}+Phi_{j+1} + h^2 F_j ]  (if source=F)\n",
    "#   Phi_j  = 1/3 Phi_j + 2/3 Phi*_j\n",
    "# where the 2/3 is the \"optimal\" weight.\n",
    "#\n",
    "# The multigrid steps are recursively implemented, with a \"full multigrid\"\n",
    "# step calling a recursive V-cycle."
   ]
  },
  {
   "cell_type": "code",
   "execution_count": null,
   "metadata": {},
   "outputs": [],
   "source": [
    "def jacobi(phi,F,h,Niter=5,w=2./3.):\n",
    "    \"\"\"\n",
    "    Does Niter iterations of the damped Jacobi method, with damping\n",
    "    factor w.  The boundary conditions at the grid ends remain unchanged.\n",
    "    \"\"\"\n",
    "    phistar=phi.copy()\n",
    "    for iter in range(Niter):\n",
    "        phistar[1:-1] = 0.5*(phi[:-2]+phi[2:]+h**2*F[1:-1])\n",
    "        phi = (1-w)*phi + w*phistar\n",
    "    return(phi)\n",
    "    #"
   ]
  },
  {
   "cell_type": "code",
   "execution_count": null,
   "metadata": {},
   "outputs": [],
   "source": [
    "def residual(phi,F,h):\n",
    "    \"\"\"Computes the residual.\"\"\"\n",
    "    d2phi = np.zeros_like(phi)\n",
    "    d2phi[1:-1]=-phi[:-2]-phi[2:]+2*phi[1:-1]\n",
    "    return(h**2*F-d2phi)\n",
    "    #"
   ]
  },
  {
   "cell_type": "code",
   "execution_count": null,
   "metadata": {},
   "outputs": [],
   "source": [
    "def prolong(v2h):\n",
    "    \"\"\"\n",
    "    Transfer a vector, v2h, from the coarse grid to the fine grid (a\n",
    "    factor of 2 finer) using linear interpolation.  This is often\n",
    "    called interpolation or prolongation.\n",
    "    In components v^h_{2j}=v^{2h}_j and v^h_{2j+1}=(1/2)[v^{2h}_j+v^{2h}_{j+1}]\n",
    "    Note that I am keeping track of j=0 and N in the arrays, even though\n",
    "    they are not \"active\".\n",
    "    \"\"\"\n",
    "    v1h = np.empty( 2*v2h.size-1 )\n",
    "    v1h[::2] = v2h[:]\n",
    "    v1h[1::2]= 0.5*(v2h[:-1]+v2h[1:])\n",
    "    v1h[0],v1h[-1]=v2h[0],v2h[-1]\n",
    "    return(v1h)\n",
    "    #"
   ]
  },
  {
   "cell_type": "code",
   "execution_count": null,
   "metadata": {},
   "outputs": [],
   "source": [
    "def restrict(v1h):\n",
    "    \"\"\"\n",
    "    Transfer a vector, v, from the fine grid to the coarse grid (a\n",
    "    factor of 2 coarser) using full weighting.  This is often\n",
    "    called restriction or injection.\n",
    "    In components v^{2h}_{j}=(1/4)[v^{h}_{2j-1}+2v^h_{2j}+v^h_{2j+1}]\n",
    "    Note that I am keeping track of j=0 and N in the arrays, even though\n",
    "    they are not \"active\".\n",
    "    \"\"\"\n",
    "    t1  = np.roll(v1h,-1)[::2]\n",
    "    t2  = np.roll(v1h, 0)[::2]\n",
    "    t3  = np.roll(v1h,+1)[::2]\n",
    "    v2h = 0.25*(t1+2*t2+t3)\n",
    "    v2h[0],v2h[-1]=v1h[0],v1h[-1]\n",
    "    return(v2h)\n",
    "    #"
   ]
  },
  {
   "cell_type": "code",
   "execution_count": null,
   "metadata": {},
   "outputs": [],
   "source": [
    "def vcycle(phi,F,h,Niter=50):\n",
    "    \"\"\"\n",
    "    Does one V-cycle with a recursive strategy--the Niter is passed\n",
    "    through to the Jacobi method.\n",
    "    \"\"\"\n",
    "    phi1 = jacobi(phi,F,h,Niter=Niter)\n",
    "    F1   = F.copy()\n",
    "    if len(phi1)>3:\n",
    "        F2   = restrict(residual(phi1,F1,h))\n",
    "        z2   = np.zeros_like(F2)\n",
    "        # Note here the \"F\" is really a residual, so take out the\n",
    "        # fact we really solve A.z=h^2.F\n",
    "        v2   = vcycle(z2,F2/h**2,2*h,Niter=Niter)\n",
    "        phi1+= prolong(v2)\n",
    "    phi1 = jacobi(phi1,F1,h,Niter=Niter)\n",
    "    return(phi1)\n",
    "    #"
   ]
  },
  {
   "cell_type": "code",
   "execution_count": null,
   "metadata": {},
   "outputs": [],
   "source": [
    "def fmg_vcycle(F,h,bndry,Niter=5):\n",
    "    \"\"\"\n",
    "    Does one full multigrid V-cycle, using a recursive strategy.\n",
    "    This implements nested iteration on top of the V-cycle correction scheme.\n",
    "    \"\"\"\n",
    "    if len(F)>3:\n",
    "        f2h = restrict(F)\n",
    "        v2h = fmg_vcycle(f2h,2*h,bndry)\n",
    "        v1h = prolong(v2h)\n",
    "    else:\n",
    "        # Start with zero, except for the boundary conditions.\n",
    "        v1h = np.zeros_like(F)\n",
    "        v1h[0],v1h[-1]=bndry[0],bndry[1]\n",
    "    for iter in range(Niter):\n",
    "        v1h = vcycle(v1h,F,h)\n",
    "    return(v1h)\n",
    "    #"
   ]
  },
  {
   "cell_type": "code",
   "execution_count": null,
   "metadata": {},
   "outputs": [],
   "source": [
    "def solve(bndry=[1,0],n=16,Niter=50):\n",
    "    \"\"\"Try it out.  Note n should be a power of two.\"\"\"\n",
    "    # Set up the initial conditions and grids.\n",
    "    xx      = np.linspace(0,1,n+1)\n",
    "    F       = np.zeros(n+1)\n",
    "    # Can either do a full multigrid or a bunch of V-cycles.\n",
    "    if True:\n",
    "        phi = fmg_vcycle(F,1.0/n,bndry)\n",
    "    else:\n",
    "        phi = np.zeros(n+1)\n",
    "        phi[ 0],phi[-1] = bndry[0],bndry[1]\n",
    "        for iter in range(5):\n",
    "            phi = vcycle(phi,F,1.0/n,Niter=100)\n",
    "    #\n",
    "    exact = bndry[0] + (bndry[1]-bndry[0])*xx\n",
    "    #\n",
    "    print(\"# {:>4s} {:>10s} {:>10s} {:>10s}\".\\\n",
    "          format(\"Iter\",\"Approx\",\"Exact\",\"Error\"))\n",
    "    for i in range(n+1):\n",
    "        print(\"{:6d} {:10.5f} {:10.5f} {:10.3f}\".\\\n",
    "          format(i,phi[i],exact[i],100.*(phi[i]-exact[i])/(exact[i]+1e-10)))\n",
    "    #"
   ]
  },
  {
   "cell_type": "code",
   "execution_count": null,
   "metadata": {},
   "outputs": [],
   "source": [
    "solve()"
   ]
  },
  {
   "cell_type": "code",
   "execution_count": null,
   "metadata": {},
   "outputs": [],
   "source": []
  }
 ],
 "metadata": {
  "kernelspec": {
   "display_name": "Python 3",
   "language": "python",
   "name": "python3"
  },
  "language_info": {
   "codemirror_mode": {
    "name": "ipython",
    "version": 3
   },
   "file_extension": ".py",
   "mimetype": "text/x-python",
   "name": "python",
   "nbconvert_exporter": "python",
   "pygments_lexer": "ipython3",
   "version": "3.6.7"
  }
 },
 "nbformat": 4,
 "nbformat_minor": 2
}
